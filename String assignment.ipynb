{
 "cells": [
  {
   "cell_type": "markdown",
   "id": "d742507c-fc59-47fe-bc12-a025b40597d5",
   "metadata": {},
   "source": [
    "Python - String Assignment"
   ]
  },
  {
   "cell_type": "markdown",
   "id": "8f612a6f-8fe2-44ff-afbb-dd5ef1ebe143",
   "metadata": {},
   "source": [
    "Question 1- How can we store a quote (') as a string in a varible"
   ]
  },
  {
   "cell_type": "markdown",
   "id": "ae95a1b8-0137-45d9-a6e5-357c73fc1cb3",
   "metadata": {},
   "source": [
    "Answer 1- To store quote(') as a string in a varible you can use double quotes (\") to enclodse the string For exanple "
   ]
  },
  {
   "cell_type": "code",
   "execution_count": 3,
   "id": "b3cc595a-1732-4c50-93f7-82ddafc2ec73",
   "metadata": {},
   "outputs": [],
   "source": [
    "a= \"he said, i love programing\""
   ]
  },
  {
   "cell_type": "markdown",
   "id": "5dfe8926-4393-48e0-b496-9882d034a757",
   "metadata": {},
   "source": [
    "In this example,the quote with in the string in surrounded by double quotes so the string will be stored correctely in the variable"
   ]
  },
  {
   "cell_type": "markdown",
   "id": "580e8b95-39f4-4aba-ad06-026716161427",
   "metadata": {},
   "source": [
    "Question 2- Refer the below variable:\n",
    "x='a'\n",
    "Here,is a character type or string type varible? Support your answer with an explanation"
   ]
  },
  {
   "cell_type": "markdown",
   "id": "671c05a0-8bb5-4ccd-aad8-a6105a96912d",
   "metadata": {},
   "source": [
    "Answer 2- In python, both a single character and a string of character are represented using the same type of data the string \n",
    "Therefore,In the variable x='a' , x is a string varible containing a string character varible It is actually a string of length one\n",
    "so,In short the varible 'x' is a string type varible containing a single character 'a'"
   ]
  },
  {
   "cell_type": "markdown",
   "id": "f629bba6-c30f-4782-84f6-435eb2198f80",
   "metadata": {},
   "source": [
    "Question 3- Apply the following funcation on this varible welcome to python foundation course \n",
    "1-find()\n",
    "2-count()\n",
    "3-len()\n",
    "4-concatenation"
   ]
  },
  {
   "cell_type": "markdown",
   "id": "3c4b459d-4c9c-49bb-b29c-5127f41e6fc0",
   "metadata": {},
   "source": [
    "Answer 3- Funcation Apply\n",
    "1- The find() funcation is used to find the index of the fist occurrence of a substring with in a string"
   ]
  },
  {
   "cell_type": "code",
   "execution_count": 17,
   "id": "7ef30a11-ba7e-45fd-a03a-568c72f0162f",
   "metadata": {},
   "outputs": [],
   "source": [
    "a= 'arshan'"
   ]
  },
  {
   "cell_type": "code",
   "execution_count": 18,
   "id": "a7dbf062-f423-4e3a-a857-56786c205c88",
   "metadata": {},
   "outputs": [
    {
     "data": {
      "text/plain": [
       "2"
      ]
     },
     "execution_count": 18,
     "metadata": {},
     "output_type": "execute_result"
    }
   ],
   "source": [
    "a.find('s')"
   ]
  },
  {
   "cell_type": "markdown",
   "id": "fff6d819-c1e7-459e-bebd-9fab2edeefb5",
   "metadata": {},
   "source": [
    "2- Count() funcation is used to count the number of occurrence of a substring with in a string \n",
    "For example-"
   ]
  },
  {
   "cell_type": "code",
   "execution_count": 19,
   "id": "bb9d280a-8a62-4bda-bca7-a4afaadc6ddd",
   "metadata": {},
   "outputs": [
    {
     "data": {
      "text/plain": [
       "'arshan'"
      ]
     },
     "execution_count": 19,
     "metadata": {},
     "output_type": "execute_result"
    }
   ],
   "source": [
    "a"
   ]
  },
  {
   "cell_type": "code",
   "execution_count": 20,
   "id": "cc01a7e4-ad23-4d23-bf66-4d421c5cac7a",
   "metadata": {},
   "outputs": [
    {
     "data": {
      "text/plain": [
       "1"
      ]
     },
     "execution_count": 20,
     "metadata": {},
     "output_type": "execute_result"
    }
   ],
   "source": [
    "a.count(a)"
   ]
  },
  {
   "cell_type": "code",
   "execution_count": 22,
   "id": "041ae0b7-93e7-43d7-a33d-f2ac7f4d954b",
   "metadata": {},
   "outputs": [
    {
     "data": {
      "text/plain": [
       "1"
      ]
     },
     "execution_count": 22,
     "metadata": {},
     "output_type": "execute_result"
    }
   ],
   "source": [
    "a.count('h')"
   ]
  },
  {
   "cell_type": "markdown",
   "id": "4ea0f6bb-50fa-4725-a5c3-7667eaeb9c59",
   "metadata": {},
   "source": [
    "In this example the count() funcation is used to count the number of occurrences of the substring 'a' in the given \"arshan\" the function return the count of the occurrence which is 1"
   ]
  },
  {
   "cell_type": "markdown",
   "id": "cd1a7f9e-eaa6-4f90-a86e-45d8f28e8da6",
   "metadata": {},
   "source": [
    "3-len() funcation is used to find the length of a string For example"
   ]
  },
  {
   "cell_type": "code",
   "execution_count": 23,
   "id": "eb70acb0-35f9-4c67-b62a-834d2a9a4062",
   "metadata": {},
   "outputs": [
    {
     "data": {
      "text/plain": [
       "'arshan'"
      ]
     },
     "execution_count": 23,
     "metadata": {},
     "output_type": "execute_result"
    }
   ],
   "source": [
    "a"
   ]
  },
  {
   "cell_type": "code",
   "execution_count": 30,
   "id": "9bd316c2-6b54-4764-91c9-e63c1f13003f",
   "metadata": {},
   "outputs": [
    {
     "data": {
      "text/plain": [
       "6"
      ]
     },
     "execution_count": 30,
     "metadata": {},
     "output_type": "execute_result"
    }
   ],
   "source": [
    "len(a)"
   ]
  },
  {
   "cell_type": "markdown",
   "id": "b644a05f-ca61-4b66-b5b7-6b32fa4b6907",
   "metadata": {},
   "source": [
    "In this example,the len funcation is used to find the length of the given string"
   ]
  },
  {
   "cell_type": "markdown",
   "id": "c0f98684-733e-42d6-acf9-e8b95e63fead",
   "metadata": {},
   "source": [
    "4- concatenation string concatenation is the process of combining two or more than two string In python you can use the '+' operation to concatenation string \n",
    "For example"
   ]
  },
  {
   "cell_type": "code",
   "execution_count": 31,
   "id": "8160e5cb-f3d8-45b4-a732-34d04854818a",
   "metadata": {},
   "outputs": [],
   "source": [
    "p= 'physic'"
   ]
  },
  {
   "cell_type": "code",
   "execution_count": 32,
   "id": "bb2b0f1a-c4a4-4287-ad52-85dbee1bfc9d",
   "metadata": {},
   "outputs": [],
   "source": [
    "w= 'wallah'"
   ]
  },
  {
   "cell_type": "code",
   "execution_count": 33,
   "id": "4ade0d0b-e7c4-40a4-a754-a733dc5ba32f",
   "metadata": {},
   "outputs": [],
   "source": [
    "result = p+ \" \" + w"
   ]
  },
  {
   "cell_type": "code",
   "execution_count": 34,
   "id": "d7d28509-6628-469c-8017-ddf244a2b282",
   "metadata": {},
   "outputs": [
    {
     "name": "stdout",
     "output_type": "stream",
     "text": [
      "physic wallah\n"
     ]
    }
   ],
   "source": [
    "print(result)"
   ]
  },
  {
   "cell_type": "markdown",
   "id": "a0bc8c5e-4845-48f5-83b2-a3514849687b",
   "metadata": {},
   "source": [
    "this is a example two string are concatenated using '+' operator and a space is added between them to get the final result "
   ]
  },
  {
   "cell_type": "markdown",
   "id": "73419fe4-3005-413a-b3eb-cd83fb102fbb",
   "metadata": {},
   "source": [
    "Question 4- For the varible word =panji@12256 calculate the following \n",
    "a- total number of aphabetes in lowercase\n",
    "b- total number of aphabetes in uppercase \n",
    "c- total number of aphabetes in string"
   ]
  },
  {
   "cell_type": "markdown",
   "id": "6076cd7d-9c36-484d-bf08-66917c7e0234",
   "metadata": {},
   "source": [
    "Answer 4- Know we calculate the following string 'panaji@12256'"
   ]
  },
  {
   "cell_type": "code",
   "execution_count": 36,
   "id": "53422114-684e-46ad-9f08-410a6e06ff34",
   "metadata": {},
   "outputs": [],
   "source": [
    "w= 'panaji@12256'"
   ]
  },
  {
   "cell_type": "code",
   "execution_count": 37,
   "id": "f8ae58fb-f0a0-45f5-9f76-94e4709ec23f",
   "metadata": {},
   "outputs": [
    {
     "data": {
      "text/plain": [
       "'panaji@12256'"
      ]
     },
     "execution_count": 37,
     "metadata": {},
     "output_type": "execute_result"
    }
   ],
   "source": [
    "w"
   ]
  },
  {
   "cell_type": "code",
   "execution_count": 43,
   "id": "12b7e109-0d0a-4424-92ad-50a1e66589dc",
   "metadata": {},
   "outputs": [
    {
     "data": {
      "text/plain": [
       "'panaji@12256'"
      ]
     },
     "execution_count": 43,
     "metadata": {},
     "output_type": "execute_result"
    }
   ],
   "source": [
    "w.lower()"
   ]
  },
  {
   "cell_type": "code",
   "execution_count": 44,
   "id": "75b14ab0-c75b-40da-9f3c-3ffa26f9c4dc",
   "metadata": {},
   "outputs": [
    {
     "data": {
      "text/plain": [
       "'PANAJI@12256'"
      ]
     },
     "execution_count": 44,
     "metadata": {},
     "output_type": "execute_result"
    }
   ],
   "source": [
    "w.upper()"
   ]
  },
  {
   "cell_type": "code",
   "execution_count": 49,
   "id": "5bf5cc83-c711-4174-80a4-539a5e7b2c9a",
   "metadata": {},
   "outputs": [
    {
     "data": {
      "text/plain": [
       "12"
      ]
     },
     "execution_count": 49,
     "metadata": {},
     "output_type": "execute_result"
    }
   ],
   "source": [
    "len(w)"
   ]
  },
  {
   "cell_type": "markdown",
   "id": "54ff4b87-65fc-413e-9d00-5ab352054b74",
   "metadata": {},
   "source": [
    "Qiestion 5- Write a code to store a numerical value in side a variable then convet it into string"
   ]
  },
  {
   "cell_type": "markdown",
   "id": "c319e71a-005e-46cc-9637-15cd2965a7fb",
   "metadata": {},
   "source": [
    "Answer 5- In this ,we fist store the numerical value '79' in the varible 'num' we then use the 'str' funcation to convert the numerical value to a string and store the result in the value of 'num_str' finally we print out the value of 'num'_str' to verify that the conversion was succesful"
   ]
  },
  {
   "cell_type": "code",
   "execution_count": 50,
   "id": "822089ee-e651-4cde-8f90-6492040a3720",
   "metadata": {},
   "outputs": [],
   "source": [
    "num='79'"
   ]
  },
  {
   "cell_type": "code",
   "execution_count": 53,
   "id": "5812a9bf-a0b2-4167-9f5b-59bd36b70c07",
   "metadata": {},
   "outputs": [],
   "source": [
    "num_str=str(num)"
   ]
  },
  {
   "cell_type": "code",
   "execution_count": 54,
   "id": "44117f6d-68f3-403a-95e3-54e06fbee48c",
   "metadata": {},
   "outputs": [
    {
     "name": "stdout",
     "output_type": "stream",
     "text": [
      "num is of type: <class 'str'> 79: 79\n"
     ]
    }
   ],
   "source": [
    "print(\"num is of type:\",type(num), \"79:\",num)"
   ]
  },
  {
   "cell_type": "code",
   "execution_count": 55,
   "id": "18d03ec3-1432-46ae-9ce6-8804bd6b907b",
   "metadata": {},
   "outputs": [
    {
     "name": "stdout",
     "output_type": "stream",
     "text": [
      "num_str is of type: <class 'str'> 79: 79\n"
     ]
    }
   ],
   "source": [
    "print(\"num_str is of type:\",type(num_str),\"79:\",num_str)"
   ]
  },
  {
   "cell_type": "markdown",
   "id": "d7d5ac1e-f5be-489c-a55a-682138f440f4",
   "metadata": {},
   "source": [
    "complete assignment"
   ]
  },
  {
   "cell_type": "code",
   "execution_count": null,
   "id": "750e90a8-2ba9-49f4-bdaa-3b81c24ee84d",
   "metadata": {},
   "outputs": [],
   "source": []
  }
 ],
 "metadata": {
  "kernelspec": {
   "display_name": "Python 3 (ipykernel)",
   "language": "python",
   "name": "python3"
  },
  "language_info": {
   "codemirror_mode": {
    "name": "ipython",
    "version": 3
   },
   "file_extension": ".py",
   "mimetype": "text/x-python",
   "name": "python",
   "nbconvert_exporter": "python",
   "pygments_lexer": "ipython3",
   "version": "3.10.8"
  }
 },
 "nbformat": 4,
 "nbformat_minor": 5
}
